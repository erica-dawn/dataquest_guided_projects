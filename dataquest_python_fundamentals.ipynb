{
 "cells": [
  {
   "cell_type": "markdown",
   "metadata": {},
   "source": [
    "# Profitability Predictions for iOS and Android Apps\n",
    "\n",
    "A company that develops free apps generates most of its revenue from in-app ads. The more users see and interact with the ads, the better. Our task is to determine what kinds of apps are likely to attract the most users."
   ]
  },
  {
   "cell_type": "markdown",
   "metadata": {},
   "source": [
    "As of September 2018, there were approximately 2 million apps available for download on the App Store and 2.1 million available on Google Play. We'll only use a subset of that data here.\n",
    "\n",
    "Luckily, Kaggle hosts two datasets that will be of use here.\n",
    "\n",
    "The [Google Play Store Apps dataset](https://www.kaggle.com/lava18/google-play-store-apps/home) contains data about approximately ten thousand Android apps. The data was collected in August 2018.\n",
    "\n",
    "The [Mobile App Store dataset](https://www.kaggle.com/ramamet4/app-store-apple-data-set-10k-apps/home) contains data about approximately seven thousand iOS apps. The data was collected in July 2017."
   ]
  },
  {
   "cell_type": "markdown",
   "metadata": {},
   "source": [
    "## Open the datasets and save each as a list of lists"
   ]
  },
  {
   "cell_type": "code",
   "execution_count": 1,
   "metadata": {
    "collapsed": true
   },
   "outputs": [],
   "source": [
    "from csv import reader\n",
    "\n",
    "opened_file = open('AppleStore.csv')\n",
    "read_file = reader(opened_file)\n",
    "ios_apps = list(read_file)\n",
    "ios_header = ios_apps[0]\n",
    "ios_data = ios_apps[1:]\n",
    "\n",
    "opened_file = open('googleplaystore.csv')\n",
    "read_file = reader(opened_file)\n",
    "android_apps = list(read_file)\n",
    "android_header = android_apps[0]\n",
    "android_data = android_apps[1:]"
   ]
  },
  {
   "cell_type": "markdown",
   "metadata": {},
   "source": [
    "## explore_data()\n",
    "\n",
    "The ```explore_data()``` function formats our data in a way that is much easier to read. It takes four parameters -- ```dataset```, which should be a list of lists, ```start``` and ```end```, which represents the indices of a slice from the dataset, and ```rows_and_columns```.\n",
    "\n",
    "The ```explore_data()``` function slices the dataset using ```dataset[start:end]``` then loops through the slice to print each row followed by a new line. When ```rows_and_columns``` is set to ```True```, the function also prints the number of rows and columns in the dataset.\n",
    "\n",
    "Here we'll use the ```explore_data()``` function to print the first three rows of each dataset and the number of rows and columns."
   ]
  },
  {
   "cell_type": "code",
   "execution_count": 2,
   "metadata": {
    "collapsed": false
   },
   "outputs": [
    {
     "name": "stdout",
     "output_type": "stream",
     "text": [
      "['284882215', 'Facebook', '389879808', 'USD', '0.0', '2974676', '212', '3.5', '3.5', '95.0', '4+', 'Social Networking', '37', '1', '29', '1']\n",
      "\n",
      "\n",
      "['389801252', 'Instagram', '113954816', 'USD', '0.0', '2161558', '1289', '4.5', '4.0', '10.23', '12+', 'Photo & Video', '37', '0', '29', '1']\n",
      "\n",
      "\n",
      "['529479190', 'Clash of Clans', '116476928', 'USD', '0.0', '2130805', '579', '4.5', '4.5', '9.24.12', '9+', 'Games', '38', '5', '18', '1']\n",
      "\n",
      "\n",
      "Number of rows: 7197\n",
      "Number of columns: 16\n",
      "\n",
      "\n",
      "['Photo Editor & Candy Camera & Grid & ScrapBook', 'ART_AND_DESIGN', '4.1', '159', '19M', '10,000+', 'Free', '0', 'Everyone', 'Art & Design', 'January 7, 2018', '1.0.0', '4.0.3 and up']\n",
      "\n",
      "\n",
      "['Coloring book moana', 'ART_AND_DESIGN', '3.9', '967', '14M', '500,000+', 'Free', '0', 'Everyone', 'Art & Design;Pretend Play', 'January 15, 2018', '2.0.0', '4.0.3 and up']\n",
      "\n",
      "\n",
      "['U Launcher Lite – FREE Live Cool Themes, Hide Apps', 'ART_AND_DESIGN', '4.7', '87510', '8.7M', '5,000,000+', 'Free', '0', 'Everyone', 'Art & Design', 'August 1, 2018', '1.2.4', '4.0.3 and up']\n",
      "\n",
      "\n",
      "Number of rows: 10841\n",
      "Number of columns: 13\n"
     ]
    }
   ],
   "source": [
    "def explore_data(dataset, start, end, rows_and_columns=False):\n",
    "    dataset_slice = dataset[start:end]    \n",
    "    for row in dataset_slice:\n",
    "        print(row)\n",
    "        print('\\n') # adds a new (empty) line after each row\n",
    "\n",
    "    if rows_and_columns:\n",
    "        print('Number of rows:', len(dataset))\n",
    "        print('Number of columns:', len(dataset[0]))\n",
    "        \n",
    "explore_data(ios_data, 0, 3, True)\n",
    "print('\\n')\n",
    "explore_data(android_data, 0, 3, True)"
   ]
  },
  {
   "cell_type": "markdown",
   "metadata": {},
   "source": [
    "Printing the header rows gives us the column names for each dataset. \n",
    "\n",
    "Descriptions of the iOS column names can be found [here](https://www.kaggle.com/ramamet4/app-store-apple-data-set-10k-apps/home)\n",
    "\n",
    "Descriptions of the Android column names can be found [here](https://www.kaggle.com/lava18/google-play-store-apps/home)"
   ]
  },
  {
   "cell_type": "code",
   "execution_count": 3,
   "metadata": {
    "collapsed": false
   },
   "outputs": [
    {
     "name": "stdout",
     "output_type": "stream",
     "text": [
      "['id', 'track_name', 'size_bytes', 'currency', 'price', 'rating_count_tot', 'rating_count_ver', 'user_rating', 'user_rating_ver', 'ver', 'cont_rating', 'prime_genre', 'sup_devices.num', 'ipadSc_urls.num', 'lang.num', 'vpp_lic']\n"
     ]
    }
   ],
   "source": [
    "print(ios_header)"
   ]
  },
  {
   "cell_type": "code",
   "execution_count": 4,
   "metadata": {
    "collapsed": false
   },
   "outputs": [
    {
     "name": "stdout",
     "output_type": "stream",
     "text": [
      "['App', 'Category', 'Rating', 'Reviews', 'Size', 'Installs', 'Type', 'Price', 'Content Rating', 'Genres', 'Last Updated', 'Current Ver', 'Android Ver']\n"
     ]
    }
   ],
   "source": [
    "print(android_header)"
   ]
  },
  {
   "cell_type": "markdown",
   "metadata": {},
   "source": [
    "# Data Cleaning"
   ]
  },
  {
   "cell_type": "markdown",
   "metadata": {},
   "source": [
    "## Removing inaccurate data\n",
    "\n",
    "Both the Android and iOS datasets have dedicated discussion pages at Kaggle.com. Looking at the discussion for the Android Google Play data, a user has identified a row with missing data that causes a column shift. This error is in row 10472 when the header is removed. We'll just remove this row."
   ]
  },
  {
   "cell_type": "code",
   "execution_count": 5,
   "metadata": {
    "collapsed": false
   },
   "outputs": [],
   "source": [
    "del android_data[10472]"
   ]
  },
  {
   "cell_type": "markdown",
   "metadata": {},
   "source": [
    "## Removing duplicate entries\n",
    "The Android dataset also has a number of duplicate entries. The following code determines how many duplicates there are and finds some examples. \n",
    "\n",
    "We create two empty lists: ```duplicate_apps``` and ```unique_apps```. Looping through the Android data, if a name already appears in ```unique_apps```, the name is added to the ```duplicate_apps``` list. Otherwise, the app name is added to the ```unique_apps``` list."
   ]
  },
  {
   "cell_type": "code",
   "execution_count": 6,
   "metadata": {
    "collapsed": false
   },
   "outputs": [
    {
     "name": "stdout",
     "output_type": "stream",
     "text": [
      "Number of duplicate apps: 1181\n",
      "\n",
      "\n",
      "Examples of duplicate apps: ['Quick PDF Scanner + OCR FREE', 'Box', 'Google My Business', 'ZOOM Cloud Meetings', 'join.me - Simple Meetings']\n"
     ]
    }
   ],
   "source": [
    "duplicate_apps = []\n",
    "unique_apps = []\n",
    "\n",
    "for app in android_data:\n",
    "    name = app[0]\n",
    "    if name in unique_apps:\n",
    "        duplicate_apps.append(name)\n",
    "    else:\n",
    "        unique_apps.append(name)\n",
    "        \n",
    "print('Number of duplicate apps:', len(duplicate_apps))\n",
    "print('\\n')\n",
    "print('Examples of duplicate apps:', duplicate_apps[:5])"
   ]
  },
  {
   "cell_type": "markdown",
   "metadata": {},
   "source": [
    "We need to remove duplicate entries but don't want to do so randomly. We'll assume the entry with the most user ratings is the most recent. The following code removes all duplicate entries but the ones with the most user ratings. \n",
    "\n",
    "First, we create a dictionary where each key is a unique app and the value is the highest number of reviews for the app."
   ]
  },
  {
   "cell_type": "code",
   "execution_count": 7,
   "metadata": {
    "collapsed": false
   },
   "outputs": [],
   "source": [
    "reviews_max = {}\n",
    "\n",
    "for app in android_data:\n",
    "    name = app[0]\n",
    "    n_reviews = float(app[3])\n",
    "    if name in reviews_max and reviews_max[name] < n_reviews:\n",
    "        reviews_max[name] = n_reviews\n",
    "    if name not in reviews_max:\n",
    "        reviews_max[name] = n_reviews\n"
   ]
  },
  {
   "cell_type": "markdown",
   "metadata": {},
   "source": [
    "We can confirm we have the correct number of apps by comparing the length of ```reviews_max``` to the length of our original dataset less the 1181 duplicate apps."
   ]
  },
  {
   "cell_type": "code",
   "execution_count": 8,
   "metadata": {
    "collapsed": false
   },
   "outputs": [
    {
     "name": "stdout",
     "output_type": "stream",
     "text": [
      "9659\n",
      "9659\n"
     ]
    }
   ],
   "source": [
    "print(len(reviews_max))\n",
    "print(len(android_data) - 1181)"
   ]
  },
  {
   "cell_type": "markdown",
   "metadata": {},
   "source": [
    "We can use the dictionary created above to remove the duplicate entries. We create two empty lists -- one to store our clean dataset and one to store a list of apps already added to the new dataset. If the number of reviews of an app equals that app's value in the ```reviews_max``` dictionary and the app's name is not in the ```already_added``` list, the app is added to the ```android_clean``` dataset and the app's name is added to the ```already_added``` list. "
   ]
  },
  {
   "cell_type": "code",
   "execution_count": 9,
   "metadata": {
    "collapsed": true
   },
   "outputs": [],
   "source": [
    "android_clean = []\n",
    "already_added = []\n",
    "\n",
    "for app in android_data:\n",
    "    name = app[0]\n",
    "    n_reviews = float(app[3])\n",
    "    if n_reviews == reviews_max[name] and name not in already_added: \n",
    "        android_clean.append(app)\n",
    "        already_added.append(app[0])        "
   ]
  },
  {
   "cell_type": "markdown",
   "metadata": {},
   "source": [
    "The ```android_clean``` list should contain 9659 values."
   ]
  },
  {
   "cell_type": "code",
   "execution_count": 10,
   "metadata": {
    "collapsed": false
   },
   "outputs": [
    {
     "name": "stdout",
     "output_type": "stream",
     "text": [
      "9659\n"
     ]
    }
   ],
   "source": [
    "print(len(android_clean))"
   ]
  },
  {
   "cell_type": "markdown",
   "metadata": {},
   "source": [
    "## Remove non-English apps\n",
    "\n",
    "ASCII codes for characters commonly used in English range from 0 to 127. So any app whose name contains a character whose code is greater than 127 is possibly a non-English app. The ```is_english()``` function returns ```False``` if any character in a string is not a common English character and returns ```True``` otherwise."
   ]
  },
  {
   "cell_type": "code",
   "execution_count": 11,
   "metadata": {
    "collapsed": true
   },
   "outputs": [],
   "source": [
    "def is_english(string):\n",
    "    for char in string:\n",
    "        if ord(char) > 127:\n",
    "            return False\n",
    "    return True"
   ]
  },
  {
   "cell_type": "markdown",
   "metadata": {},
   "source": [
    "However, some English apps do have names that use characters outside the normal ASCII range, such as ™ or emoticons."
   ]
  },
  {
   "cell_type": "code",
   "execution_count": 12,
   "metadata": {
    "collapsed": false
   },
   "outputs": [
    {
     "name": "stdout",
     "output_type": "stream",
     "text": [
      "True\n",
      "False\n",
      "False\n",
      "False\n"
     ]
    }
   ],
   "source": [
    "print(is_english('Instagram'))\n",
    "print(is_english('爱奇艺PPS -《欢乐颂2》电视剧热播'))\n",
    "print(is_english('Docs To Go™ Free Office Suite'))\n",
    "print(is_english('Instachat 😜'))"
   ]
  },
  {
   "cell_type": "markdown",
   "metadata": {},
   "source": [
    "A better idea might be to only eliminate apps that have three or more characters outside the normal range. "
   ]
  },
  {
   "cell_type": "code",
   "execution_count": 13,
   "metadata": {
    "collapsed": true
   },
   "outputs": [],
   "source": [
    "def is_english(string):\n",
    "    chars = 0\n",
    "    for char in string:\n",
    "        if ord(char) > 127:\n",
    "            chars += 1\n",
    "            \n",
    "    if chars >= 3:\n",
    "        return False\n",
    "    return True"
   ]
  },
  {
   "cell_type": "code",
   "execution_count": 14,
   "metadata": {
    "collapsed": false
   },
   "outputs": [
    {
     "name": "stdout",
     "output_type": "stream",
     "text": [
      "False\n",
      "True\n",
      "True\n"
     ]
    }
   ],
   "source": [
    "print(is_english('爱奇艺PPS -《欢乐颂2》电视剧热播'))\n",
    "print(is_english('Docs To Go™ Free Office Suite'))\n",
    "print(is_english('Instachat 😜'))"
   ]
  },
  {
   "cell_type": "markdown",
   "metadata": {},
   "source": [
    "We'll use the ```is_english()``` function to filter out non-English apps. We'll loop through the Android and iOS app datasets and add English apps to a new list."
   ]
  },
  {
   "cell_type": "code",
   "execution_count": 15,
   "metadata": {
    "collapsed": true
   },
   "outputs": [],
   "source": [
    "android_english = []\n",
    "ios_english = []\n",
    "\n",
    "for app in android_clean:\n",
    "    name = app[0]\n",
    "    if is_english(name):\n",
    "        android_english.append(app)\n",
    "        \n",
    "for app in ios_data:\n",
    "    name = app[1]\n",
    "    if is_english(name):\n",
    "        ios_english.append(app)"
   ]
  },
  {
   "cell_type": "markdown",
   "metadata": {},
   "source": [
    "## Isolating free apps\n",
    "We only want to look at free apps. We'll loop through the ```android_english``` and ```ios_english``` datasets and append any free apps to the ```android_free``` or ```ios_free``` lists."
   ]
  },
  {
   "cell_type": "code",
   "execution_count": 17,
   "metadata": {
    "collapsed": false
   },
   "outputs": [],
   "source": [
    "android_free = []\n",
    "ios_free = []\n",
    "\n",
    "for app in android_english:\n",
    "    price = app[7]\n",
    "    if price == '0':\n",
    "        android_free.append(app)\n",
    "        \n",
    "for app in ios_english:\n",
    "    price = app[4]\n",
    "    if price == '0.0':\n",
    "        ios_free.append(app)\n",
    "    "
   ]
  },
  {
   "cell_type": "markdown",
   "metadata": {},
   "source": [
    "## Determine most common genres in each market\n",
    "We'll start by creating a frequency table of genres in each market. \n",
    "The ```freq_table()``` function takes two parameters: dataset and index of the column we want to create a frequency table for. It starts with an empty dictionary. We loop through both datasets. If a key is not already in the ```ft``` dictionary, it is added. Otherwise, the value will be incremented by one. Frequency table values will be converted to a percentage of total number of apps."
   ]
  },
  {
   "cell_type": "code",
   "execution_count": 22,
   "metadata": {
    "collapsed": false
   },
   "outputs": [
    {
     "name": "stdout",
     "output_type": "stream",
     "text": [
      "{'ART_AND_DESIGN': 0.6442133815551537, 'TRAVEL_AND_LOCAL': 2.3395117540687163, 'SPORTS': 3.390596745027125, 'PHOTOGRAPHY': 2.949819168173599, 'BUSINESS': 4.599909584086799, 'FAMILY': 18.942133815551536, 'NEWS_AND_MAGAZINES': 2.802893309222423, 'DATING': 1.8648282097649187, 'GAME': 9.697106690777577, 'PERSONALIZATION': 3.322784810126582, 'EVENTS': 0.7120253164556962, 'BEAUTY': 0.599005424954792, 'FOOD_AND_DRINK': 1.2432188065099457, 'FINANCE': 3.7070524412296564, 'LIFESTYLE': 3.887884267631103, 'AUTO_AND_VEHICLES': 0.9267631103074141, 'BOOKS_AND_REFERENCE': 2.1360759493670884, 'HEALTH_AND_FITNESS': 3.0854430379746836, 'EDUCATION': 1.164104882459313, 'WEATHER': 0.7911392405063291, 'COMICS': 0.6103074141048824, 'SHOPPING': 2.2490958408679926, 'TOOLS': 8.453887884267631, 'MAPS_AND_NAVIGATION': 1.3901446654611211, 'PARENTING': 0.6555153707052441, 'LIBRARIES_AND_DEMO': 0.9380650994575045, 'HOUSE_AND_HOME': 0.8024412296564195, 'PRODUCTIVITY': 3.899186256781193, 'COMMUNICATION': 3.2323688969258586, 'MEDICAL': 3.5375226039783, 'VIDEO_PLAYERS': 1.7970162748643763, 'SOCIAL': 2.667269439421338, 'ENTERTAINMENT': 0.9606690777576853}\n",
      "\n",
      "\n",
      "{'Weather': 0.8741804558226661, 'Finance': 1.0927255697783327, 'Travel': 1.248829222603809, 'Food & Drink': 0.8117389946924758, 'Navigation': 0.18732438339057134, 'Music': 2.0605682172962845, 'Reference': 0.5307524196066188, 'Business': 0.5307524196066188, 'Education': 3.6840462066812365, 'Sports': 2.1542304089915705, 'Medical': 0.18732438339057134, 'News': 1.3424914142990947, 'Social Networking': 3.3093974399000934, 'Shopping': 2.5913206369029034, 'Health & Fitness': 2.0293474867311896, 'Lifestyle': 1.5610365282547611, 'Games': 58.25788323446769, 'Entertainment': 7.836403371838902, 'Productivity': 1.7483609116453322, 'Catalogs': 0.1248829222603809, 'Photo & Video': 4.995316890415236, 'Utilities': 2.466437714642523, 'Book': 0.3746487667811427}\n"
     ]
    }
   ],
   "source": [
    "def freq_table(dataset, index):\n",
    "    ft = {}\n",
    "    total = 0\n",
    "    \n",
    "    for key in dataset:\n",
    "        total += 1\n",
    "        value = key[index]\n",
    "        if value in ft:\n",
    "            ft[value] += 1\n",
    "        else:\n",
    "            ft[value] = 1\n",
    "\n",
    "    percentages = {}\n",
    "    for each in ft:\n",
    "        percent = (ft[each] / total) * 100\n",
    "        percentages[each] = percent\n",
    "        \n",
    "    return percentages\n",
    "\n",
    "print(freq_table(android_free, 1))\n",
    "print('\\n')\n",
    "print(freq_table(ios_free, -5))"
   ]
  },
  {
   "cell_type": "markdown",
   "metadata": {},
   "source": [
    "The ```display_table()``` function sorts our results and formats them nicely. This function takes in two parameters: dataset and index. First, the ```display_table()``` function uses the ```freq_table()``` to generate a frequency table. We need to sort our results by value but the built-in ```sorted()``` function sorts dictionaries by key. So first we must convert the dictionary to a list of tuples."
   ]
  },
  {
   "cell_type": "code",
   "execution_count": 23,
   "metadata": {
    "collapsed": true
   },
   "outputs": [],
   "source": [
    "def display_table(dataset, index):\n",
    "    table = freq_table(dataset, index)\n",
    "    table_display = []\n",
    "    for key in table:\n",
    "        key_val_as_tuple = (table[key], key)\n",
    "        table_display.append(key_val_as_tuple)\n",
    "\n",
    "    table_sorted = sorted(table_display, reverse = True)\n",
    "    for entry in table_sorted:\n",
    "        print(entry[1], ':', entry[0])"
   ]
  },
  {
   "cell_type": "code",
   "execution_count": 25,
   "metadata": {
    "collapsed": false,
    "scrolled": true
   },
   "outputs": [
    {
     "name": "stdout",
     "output_type": "stream",
     "text": [
      "FAMILY : 18.942133815551536\n",
      "GAME : 9.697106690777577\n",
      "TOOLS : 8.453887884267631\n",
      "BUSINESS : 4.599909584086799\n",
      "PRODUCTIVITY : 3.899186256781193\n",
      "LIFESTYLE : 3.887884267631103\n",
      "FINANCE : 3.7070524412296564\n",
      "MEDICAL : 3.5375226039783\n",
      "SPORTS : 3.390596745027125\n",
      "PERSONALIZATION : 3.322784810126582\n",
      "COMMUNICATION : 3.2323688969258586\n",
      "HEALTH_AND_FITNESS : 3.0854430379746836\n",
      "PHOTOGRAPHY : 2.949819168173599\n",
      "NEWS_AND_MAGAZINES : 2.802893309222423\n",
      "SOCIAL : 2.667269439421338\n",
      "TRAVEL_AND_LOCAL : 2.3395117540687163\n",
      "SHOPPING : 2.2490958408679926\n",
      "BOOKS_AND_REFERENCE : 2.1360759493670884\n",
      "DATING : 1.8648282097649187\n",
      "VIDEO_PLAYERS : 1.7970162748643763\n",
      "MAPS_AND_NAVIGATION : 1.3901446654611211\n",
      "FOOD_AND_DRINK : 1.2432188065099457\n",
      "EDUCATION : 1.164104882459313\n",
      "ENTERTAINMENT : 0.9606690777576853\n",
      "LIBRARIES_AND_DEMO : 0.9380650994575045\n",
      "AUTO_AND_VEHICLES : 0.9267631103074141\n",
      "HOUSE_AND_HOME : 0.8024412296564195\n",
      "WEATHER : 0.7911392405063291\n",
      "EVENTS : 0.7120253164556962\n",
      "PARENTING : 0.6555153707052441\n",
      "ART_AND_DESIGN : 0.6442133815551537\n",
      "COMICS : 0.6103074141048824\n",
      "BEAUTY : 0.599005424954792\n",
      "ANDROID None\n",
      "\n",
      "\n",
      "Games : 58.25788323446769\n",
      "Entertainment : 7.836403371838902\n",
      "Photo & Video : 4.995316890415236\n",
      "Education : 3.6840462066812365\n",
      "Social Networking : 3.3093974399000934\n",
      "Shopping : 2.5913206369029034\n",
      "Utilities : 2.466437714642523\n",
      "Sports : 2.1542304089915705\n",
      "Music : 2.0605682172962845\n",
      "Health & Fitness : 2.0293474867311896\n",
      "Productivity : 1.7483609116453322\n",
      "Lifestyle : 1.5610365282547611\n",
      "News : 1.3424914142990947\n",
      "Travel : 1.248829222603809\n",
      "Finance : 1.0927255697783327\n",
      "Weather : 0.8741804558226661\n",
      "Food & Drink : 0.8117389946924758\n",
      "Reference : 0.5307524196066188\n",
      "Business : 0.5307524196066188\n",
      "Book : 0.3746487667811427\n",
      "Navigation : 0.18732438339057134\n",
      "Medical : 0.18732438339057134\n",
      "Catalogs : 0.1248829222603809\n",
      "None\n"
     ]
    }
   ],
   "source": [
    "print(display_table(android_free, 1))\n",
    "print('\\n')\n",
    "print(display_table(ios_free, -5))"
   ]
  },
  {
   "cell_type": "markdown",
   "metadata": {},
   "source": [
    "But does a large number of apps make one genre more popular than another? A better indicator of a genre's popularity might be the average number of installs in each genre.\n",
    "\n",
    "The Android dataset gives us the number of installs for each app; the iOS dataset does not. As a workaround, we'll use the total number of user ratings for each app.\n",
    "\n",
    "The following code calculates the avarage number of user ratings per app in the iOS dataset.\n",
    "\n",
    "First, we need to isolate the apps of each genre. We'll start by generating a frequency table for the ```prime_genre``` column of the iOS dataset."
   ]
  },
  {
   "cell_type": "code",
   "execution_count": 28,
   "metadata": {
    "collapsed": false
   },
   "outputs": [],
   "source": [
    "ios_genres = freq_table(ios_free, -5)"
   ]
  },
  {
   "cell_type": "markdown",
   "metadata": {},
   "source": [
    "Then, we'll loop through the unique genres in the dataset and find the average number of ratings."
   ]
  },
  {
   "cell_type": "code",
   "execution_count": 29,
   "metadata": {
    "collapsed": false
   },
   "outputs": [
    {
     "name": "stdout",
     "output_type": "stream",
     "text": [
      "Weather : 52279.892857142855\n",
      "Finance : 32367.02857142857\n",
      "Travel : 28243.8\n",
      "Food & Drink : 33333.92307692308\n",
      "Navigation : 86090.33333333333\n",
      "Music : 57326.530303030304\n",
      "Reference : 79350.4705882353\n",
      "Business : 7491.117647058823\n",
      "Education : 7003.983050847458\n",
      "Sports : 23008.898550724636\n",
      "Medical : 612.0\n",
      "News : 21248.023255813954\n",
      "Social Networking : 71548.34905660378\n",
      "Shopping : 27230.734939759037\n",
      "Health & Fitness : 23298.015384615384\n",
      "Lifestyle : 16815.48\n",
      "Games : 22886.36709539121\n",
      "Entertainment : 14195.358565737051\n",
      "Productivity : 21028.410714285714\n",
      "Catalogs : 4004.0\n",
      "Photo & Video : 28441.54375\n",
      "Utilities : 19156.493670886077\n",
      "Book : 46384.916666666664\n"
     ]
    }
   ],
   "source": [
    "for genre in ios_genres:\n",
    "    total = 0\n",
    "    len_genre = 0 \n",
    "    for app in ios_free:\n",
    "        genre_app = app[-5]\n",
    "        if genre_app == genre:\n",
    "            n_ratings = float(app[5])\n",
    "            total += n_ratings\n",
    "            len_genre += 1\n",
    "            \n",
    "    avg_ratings = total / len_genre\n",
    "    print(genre, ':', avg_ratings)"
   ]
  },
  {
   "cell_type": "markdown",
   "metadata": {},
   "source": [
    "Obtaining the average number of installs in the iOS data was a relatively straightforward process. Unfortunately, the Android dataset requires a bit more work. Most install values are open-ended (100+, 1000+, etc.). We don't need perfect precision, so we'll leave the numbers as they are. We just need to remove the plus sign and convert the value to a float value. We can use the ```str.replace()``` method to replace the plus sign and commas with an empty string.\n",
    "\n",
    "As with the iOS dataset, we'll start by generating a frequency table."
   ]
  },
  {
   "cell_type": "code",
   "execution_count": 32,
   "metadata": {
    "collapsed": false
   },
   "outputs": [],
   "source": [
    "android_categories = freq_table(android_free, 1)"
   ]
  },
  {
   "cell_type": "markdown",
   "metadata": {},
   "source": [
    "As with the iOS data, we loop through the unique genres, but with the Android data, we can use the number of installs -- after removing the plus sign and commas and converting the value to a float. "
   ]
  },
  {
   "cell_type": "code",
   "execution_count": 37,
   "metadata": {
    "collapsed": false
   },
   "outputs": [
    {
     "name": "stdout",
     "output_type": "stream",
     "text": [
      "ART_AND_DESIGN : 1986335.0877192982\n",
      "TRAVEL_AND_LOCAL : 13984077.710144928\n",
      "SPORTS : 3650602.276666667\n",
      "PHOTOGRAPHY : 17840110.40229885\n",
      "BUSINESS : 1712290.1474201474\n",
      "FAMILY : 3695641.8198090694\n",
      "NEWS_AND_MAGAZINES : 9549178.467741935\n",
      "DATING : 854028.8303030303\n",
      "GAME : 15544014.51048951\n",
      "PERSONALIZATION : 5201482.6122448975\n",
      "EVENTS : 253542.22222222222\n",
      "BEAUTY : 513151.88679245283\n",
      "FOOD_AND_DRINK : 1924897.7363636363\n",
      "FINANCE : 1387692.475609756\n",
      "LIFESTYLE : 1446158.2238372094\n",
      "AUTO_AND_VEHICLES : 647317.8170731707\n",
      "BOOKS_AND_REFERENCE : 8814199.78835979\n",
      "HEALTH_AND_FITNESS : 4188821.9853479853\n",
      "EDUCATION : 1833495.145631068\n",
      "WEATHER : 5145550.285714285\n",
      "COMICS : 832613.8888888889\n",
      "SHOPPING : 7036877.311557789\n",
      "TOOLS : 10830251.970588235\n",
      "MAPS_AND_NAVIGATION : 4049274.6341463416\n",
      "PARENTING : 542603.6206896552\n",
      "LIBRARIES_AND_DEMO : 638503.734939759\n",
      "HOUSE_AND_HOME : 1360598.042253521\n",
      "PRODUCTIVITY : 16787331.344927534\n",
      "COMMUNICATION : 38590581.08741259\n",
      "MEDICAL : 120550.61980830671\n",
      "VIDEO_PLAYERS : 24727872.452830188\n",
      "SOCIAL : 23253652.127118643\n",
      "ENTERTAINMENT : 11640705.88235294\n"
     ]
    }
   ],
   "source": [
    "for category in android_categories:\n",
    "    total = 0\n",
    "    len_category = 0\n",
    "    for app in android_free:\n",
    "        category_app = app[1]\n",
    "        if category == category_app:\n",
    "            n_installs = app[5]\n",
    "            n_installs = n_installs.replace('+', '')\n",
    "            n_installs = n_installs.replace(',', '')\n",
    "            n_installs = float(n_installs)\n",
    "            total += n_installs\n",
    "            len_category += 1\n",
    "            \n",
    "    n_installs = total / len_category\n",
    "    print(category, ':', n_installs)"
   ]
  }
 ],
 "metadata": {
  "kernelspec": {
   "display_name": "Python 3",
   "language": "python",
   "name": "python3"
  },
  "language_info": {
   "codemirror_mode": {
    "name": "ipython",
    "version": 3
   },
   "file_extension": ".py",
   "mimetype": "text/x-python",
   "name": "python",
   "nbconvert_exporter": "python",
   "pygments_lexer": "ipython3",
   "version": "3.4.3"
  }
 },
 "nbformat": 4,
 "nbformat_minor": 2
}
